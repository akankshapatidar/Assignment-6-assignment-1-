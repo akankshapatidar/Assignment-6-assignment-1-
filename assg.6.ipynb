{
 "cells": [
  {
   "cell_type": "code",
   "execution_count": 38,
   "id": "b76e8356",
   "metadata": {},
   "outputs": [
    {
     "name": "stdout",
     "output_type": "stream",
     "text": [
      "The name of the dog is vision.\n",
      "The vision's age is 9.\n",
      "The coat color of vision is White.\n",
      "The weight of vision is 13 pounds.\n",
      "The lifespan of vision is 14 years.\n",
      "The name of the dog is romee.\n",
      "The romee's age is 7.\n",
      "The coat color of romee is Fawn.\n",
      "The weight of romee is 21 kilogram.\n",
      "The lifespan of romee is 10 years.\n"
     ]
    }
   ],
   "source": [
    "#1. Create a class named ‘Dog’. It should have a constructor which accepts its name, age and coat color. You must perform the following operations:\n",
    "\n",
    "#🔴 a. It should have a function ‘description()’ which prints the name and age of the dog.\n",
    "#🔴 b. It should have a function ‘get_info()’ which prints the coat color of the dog.\n",
    "#🔴 c. Create child classes ‘JackRussellTerrier’ and ‘Bulldog’ which is inherited from the class ‘Dog’.\n",
    "#    It should have at least two methods of its own.\n",
    "#🔴 d. Create objects and implement the above functionalities.\n",
    "\n",
    "\n",
    "\n",
    "class Dog:\n",
    "    def __init__(self, name, age, coat_color):\n",
    "        self.name = name\n",
    "        self.age = age\n",
    "        self.coat_color = coat_color\n",
    "\n",
    "    def description(self):\n",
    "        print(\"The name of the dog is {}.\".format(self.name))\n",
    "        print(\"The {0}'s age is {1}.\".format(self.name, self.age))\n",
    "\n",
    "    def get_info(self):\n",
    "        print(\"The coat color of {0} is {1}.\".format(self.name, self.coat_color))\n",
    "\n",
    "class JackRussellTerrier(Dog):\n",
    "\n",
    "    def weight(self, weight=13):\n",
    "        self.weight = weight\n",
    "        print(\"The weight of {0} is {1} pounds.\".format(self.name, self.weight))\n",
    "\n",
    "    def life_span(self, lifespan = 14):\n",
    "        self.lifespan = lifespan\n",
    "        print(\"The lifespan of {0} is {1} years.\".format(self.name, self.lifespan))\n",
    "\n",
    "class Bulldog(Dog):\n",
    "\n",
    "    def _init_(self, name, age, coat_color=\"White\"):\n",
    "        super()._init_(name, age, coat_color)\n",
    "        \n",
    "\n",
    "    def weight(self, weight=21):\n",
    "        self.weight = weight\n",
    "        print(\"The weight of {0} is {1} kilogram.\".format(self.name, self.weight))\n",
    "\n",
    "    def life_span(self, life_span = 10):\n",
    "        self.life_span = life_span\n",
    "        print(\"The lifespan of {0} is {1} years.\".format(self.name, self.life_span))\n",
    "\n",
    "\n",
    "vis = JackRussellTerrier(\"vision\", 9, \"White\")\n",
    "vis.description()\n",
    "vis.get_info()\n",
    "vis.weight()\n",
    "vis.life_span()\n",
    "\n",
    "rom = Bulldog(\"romee\", 7, \"Fawn\")\n",
    "rom.description()\n",
    "rom.get_info()\n",
    "rom.weight()\n",
    "rom.life_span()"
   ]
  },
  {
   "cell_type": "code",
   "execution_count": null,
   "id": "9e85eb34",
   "metadata": {},
   "outputs": [],
   "source": []
  }
 ],
 "metadata": {
  "kernelspec": {
   "display_name": "Python 3 (ipykernel)",
   "language": "python",
   "name": "python3"
  },
  "language_info": {
   "codemirror_mode": {
    "name": "ipython",
    "version": 3
   },
   "file_extension": ".py",
   "mimetype": "text/x-python",
   "name": "python",
   "nbconvert_exporter": "python",
   "pygments_lexer": "ipython3",
   "version": "3.9.12"
  }
 },
 "nbformat": 4,
 "nbformat_minor": 5
}
